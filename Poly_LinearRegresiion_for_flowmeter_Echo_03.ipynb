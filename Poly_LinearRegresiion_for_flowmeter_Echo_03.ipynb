{
 "cells": [
  {
   "cell_type": "code",
   "execution_count": 1,
   "metadata": {},
   "outputs": [],
   "source": [
    "# импорт библиотек\n",
    "import pandas as pd\n",
    "import numpy as np\n",
    "import seaborn as sns\n",
    "import scipy.stats\n",
    "import statsmodels.api as sm\n",
    "\n",
    "import matplotlib.pyplot as plt"
   ]
  },
  {
   "cell_type": "code",
   "execution_count": 2,
   "metadata": {},
   "outputs": [],
   "source": [
    "# справочные значения высоты водного столба, м\n",
    "X = np.array([0, 0.011, 0.022, 0.033, 0.044, 0.055, 0.066, 0.077, 0.088, 0.099, 0.110, 0.121, 0.132, 0.143, 0.154, 0.165, 0.176, 0.187, 0.198, 0.209, 0.220] )"
   ]
  },
  {
   "cell_type": "code",
   "execution_count": 3,
   "metadata": {},
   "outputs": [],
   "source": [
    "# справочные значения стока воды через счетчик, соответствующие м3/ч\n",
    "y = np.array([0, 1.447, 6.386, 15.105, 27.670, 44.057, 64.187, 87.941, 115.174, 145.715, 179.376, 215.950, 255.218, 296.945, 340.883, 386.774, 434.346, 483.315, 533.387, 584.255, 635.597])"
   ]
  },
  {
   "cell_type": "code",
   "execution_count": null,
   "metadata": {},
   "outputs": [],
   "source": [
    "# строю линейную регрессию в scipy"
   ]
  },
  {
   "cell_type": "code",
   "execution_count": 4,
   "metadata": {},
   "outputs": [
    {
     "data": {
      "text/plain": [
       "LinregressResult(slope=2990.8476977567884, intercept=-97.863341991342, rvalue=0.9745634861706348, pvalue=8.429006442067679e-14, stderr=157.78717746691117, intercept_stderr=20.29063757198761)"
      ]
     },
     "execution_count": 4,
     "metadata": {},
     "output_type": "execute_result"
    }
   ],
   "source": [
    "res = scipy.stats.linregress(X,y)\n",
    "res"
   ]
  },
  {
   "cell_type": "code",
   "execution_count": null,
   "metadata": {},
   "outputs": [],
   "source": [
    "# построение модели в statsmodels.api"
   ]
  },
  {
   "cell_type": "code",
   "execution_count": 5,
   "metadata": {},
   "outputs": [
    {
     "name": "stdout",
     "output_type": "stream",
     "text": [
      "                            OLS Regression Results                            \n",
      "==============================================================================\n",
      "Dep. Variable:                      y   R-squared:                       0.950\n",
      "Model:                            OLS   Adj. R-squared:                  0.947\n",
      "Method:                 Least Squares   F-statistic:                     359.3\n",
      "Date:                Wed, 04 Oct 2023   Prob (F-statistic):           8.43e-14\n",
      "Time:                        21:00:10   Log-Likelihood:                -110.11\n",
      "No. Observations:                  21   AIC:                             224.2\n",
      "Df Residuals:                      19   BIC:                             226.3\n",
      "Df Model:                           1                                         \n",
      "Covariance Type:            nonrobust                                         \n",
      "==============================================================================\n",
      "                 coef    std err          t      P>|t|      [0.025      0.975]\n",
      "------------------------------------------------------------------------------\n",
      "const        -97.8633     20.291     -4.823      0.000    -140.332     -55.395\n",
      "x1          2990.8477    157.787     18.955      0.000    2660.595    3321.100\n",
      "==============================================================================\n",
      "Omnibus:                        2.487   Durbin-Watson:                   0.118\n",
      "Prob(Omnibus):                  0.288   Jarque-Bera (JB):                1.905\n",
      "Skew:                           0.590   Prob(JB):                        0.386\n",
      "Kurtosis:                       2.115   Cond. No.                         15.2\n",
      "==============================================================================\n",
      "\n",
      "Notes:\n",
      "[1] Standard Errors assume that the covariance matrix of the errors is correctly specified.\n"
     ]
    }
   ],
   "source": [
    "X_simple_constant = sm.add_constant(X)\n",
    "model = sm.OLS(y, X_simple_constant)\n",
    "res_simple = model.fit()\n",
    "print(res_simple.summary())\n"
   ]
  },
  {
   "cell_type": "code",
   "execution_count": null,
   "metadata": {},
   "outputs": [],
   "source": [
    "# R-squared(к-т детерминации), моя модель на 95% объясняет дисперсию в целевой переменной"
   ]
  },
  {
   "cell_type": "code",
   "execution_count": null,
   "metadata": {},
   "outputs": [],
   "source": [
    "# строю график"
   ]
  },
  {
   "cell_type": "code",
   "execution_count": 13,
   "metadata": {},
   "outputs": [
    {
     "data": {
      "image/png": "[encoded data removed]",
      "text/plain": [
       "<Figure size 432x288 with 1 Axes>"
      ]
     },
     "metadata": {
      "needs_background": "light"
     },
     "output_type": "display_data"
    }
   ],
   "source": [
    "plt.plot(X, y, 'o', label='оригинальные данные расхода')\n",
    "plt.plot(X, res.intercept + res.slope*X, 'r', label= 'линии регрессии')\n",
    "plt.grid()\n",
    "plt.xlabel('Объем стока, м3/ч', fontsize = 16)\n",
    "plt.ylabel('Высота столба воды, мм', fontsize = 16)\n",
    "plt.legend()\n",
    "plt.show()"
   ]
  },
  {
   "cell_type": "code",
   "execution_count": 25,
   "metadata": {},
   "outputs": [
    {
     "data": {
      "text/plain": [
       "LinearRegression()"
      ]
     },
     "execution_count": 25,
     "metadata": {},
     "output_type": "execute_result"
    }
   ],
   "source": [
    "# импортирую LinearRegression\n",
    "from sklearn.linear_model import LinearRegression\n",
    "# модель для тернировки\n",
    "lm=LinearRegression()\n",
    "lm.fit(X.reshape(-1,1), y.reshape(-1,1))"
   ]
  },
  {
   "cell_type": "code",
   "execution_count": 26,
   "metadata": {},
   "outputs": [],
   "source": [
    "# импортирую библиотеки для полиномиального преобразования\n",
    "from sklearn.preprocessing import PolynomialFeatures\n",
    "\n",
    "from sklearn.pipeline import Pipeline\n"
   ]
  },
  {
   "cell_type": "code",
   "execution_count": null,
   "metadata": {},
   "outputs": [],
   "source": [
    "# расчитываю ошибку для полиномов c различными степенями\n",
    "from sklearn.metrics import mean_squared_error as mse"
   ]
  },
  {
   "cell_type": "code",
   "execution_count": null,
   "metadata": {},
   "outputs": [],
   "source": [
    "all_error=[]"
   ]
  },
  {
   "cell_type": "code",
   "execution_count": null,
   "metadata": {},
   "outputs": [],
   "source": [
    "degree=[1, 2, 3, 4, 5, 6, 7, 8, 9, 10, 11, 12, 13]"
   ]
  },
  {
   "cell_type": "code",
   "execution_count": null,
   "metadata": {},
   "outputs": [],
   "source": [
    "for d in degree:\n",
    "    Input=[('polinomial', PolynomialFeatures(degree=d)),('modal', LinearRegression())]\n",
    "    pipe=Pipeline(Input)\n",
    "    pipe.fit(X.reshape(-1,1), y.reshape(-1,1))\n",
    "    poly_pred=pipe.predict(X.reshape(-1,1))\n",
    "    error = mse(y,poly_pred)\n",
    "    all_error.append(error)"
   ]
  },
  {
   "cell_type": "code",
   "execution_count": 39,
   "metadata": {},
   "outputs": [
    {
     "data": {
      "text/plain": [
       "[2098.716692030509,\n",
       " 33.4992304748659,\n",
       " 0.5290395247605841,\n",
       " 0.01600914548426699,\n",
       " 0.0022555210605616125,\n",
       " 0.00033047301556344763,\n",
       " 6.289939676380045e-05,\n",
       " 1.2456070775861878e-05,\n",
       " 2.90375802884343e-06,\n",
       " 5.602557416044479e-07,\n",
       " 1.5889740433366794e-07,\n",
       " 4.302459823381041e-08,\n",
       " 2.8415523519188697e-08]"
      ]
     },
     "execution_count": 39,
     "metadata": {},
     "output_type": "execute_result"
    }
   ],
   "source": [
    "all_error"
   ]
  },
  {
   "cell_type": "code",
   "execution_count": null,
   "metadata": {},
   "outputs": [],
   "source": [
    "# вывод: для подсчета объема стоков воды через контроллер беру оптимальный, с точки расчета - degree=3"
   ]
  },
  {
   "cell_type": "code",
   "execution_count": 68,
   "metadata": {},
   "outputs": [
    {
     "data": {
      "text/plain": [
       "Pipeline(steps=[('polinomial', PolynomialFeatures(degree=5)),\n",
       "                ('modal', LinearRegression())])"
      ]
     },
     "execution_count": 68,
     "metadata": {},
     "output_type": "execute_result"
    }
   ],
   "source": [
    "# строю предиктивную модель с полиномом Degree=3\n",
    "Input=[('polinomial', PolynomialFeatures(degree = 5)),('modal', LinearRegression())]\n",
    "pipe=Pipeline(Input)\n",
    "pipe.fit(X.reshape(-1,1), y.reshape(-1,1))"
   ]
  },
  {
   "cell_type": "code",
   "execution_count": 69,
   "metadata": {},
   "outputs": [
    {
     "data": {
      "image/png": "[encoded data removed]",
      "text/plain": [
       "<Figure size 720x432 with 1 Axes>"
      ]
     },
     "metadata": {
      "needs_background": "light"
     },
     "output_type": "display_data"
    }
   ],
   "source": [
    "poly_pred=pipe.predict(X.reshape(-1,1))\n",
    "y_pred=lm.predict(X.reshape(-1,1))\n",
    "#сортировка прогнозируемых значений по отношению к предиктору\n",
    "sorted_zip = sorted(zip(X, poly_pred))\n",
    "X_poly, poly_pred = zip(*sorted_zip)\n",
    "# прогнозируемый график\n",
    "plt.figure(figsize=(10,6))\n",
    "plt.scatter(X, y, s=15)\n",
    "plt.plot(X, y_pred, color='red', label = 'Линейная регрессия')\n",
    "plt.plot(X_poly, poly_pred, color='green', label = ' Полианомиальная регрессия')\n",
    "plt.xlabel('Объем стока, м3/ч', fontsize = 16)\n",
    "plt.ylabel('Высота столба воды, мм', fontsize = 16)\n",
    "plt.legend()\n",
    "plt.show()\n"
   ]
  },
  {
   "cell_type": "code",
   "execution_count": 70,
   "metadata": {},
   "outputs": [
    {
     "data": {
      "text/plain": [
       "array([[ 0.00000000e+00, -5.34331678e+01,  1.50567789e+04,\n",
       "         1.59116795e+04, -1.42026856e+05,  1.58815168e+05]])"
      ]
     },
     "execution_count": 70,
     "metadata": {},
     "output_type": "execute_result"
    }
   ],
   "source": [
    "# вывожу коэффициенты для полинома с degree=4\n",
    "pipe.named_steps['modal'].coef_\n",
    "\n"
   ]
  },
  {
   "cell_type": "code",
   "execution_count": 65,
   "metadata": {},
   "outputs": [],
   "source": [
    "h=0.022"
   ]
  },
  {
   "cell_type": "code",
   "execution_count": 66,
   "metadata": {},
   "outputs": [],
   "source": [
    "# финальное уравнение, которое будет зашито в систему учета\n",
    "V= 0--5.34331678e+01*h+1.50567789e+04*(h**2)--988.28360585*(h**3)-54678.513636*(h**4)\n"
   ]
  },
  {
   "cell_type": "code",
   "execution_count": 67,
   "metadata": {},
   "outputs": [
    {
     "data": {
      "text/plain": [
       "5.912182711624975"
      ]
     },
     "execution_count": 67,
     "metadata": {},
     "output_type": "execute_result"
    }
   ],
   "source": [
    "V"
   ]
  }
 ],
 "metadata": {
  "kernelspec": {
   "display_name": "Python 3",
   "language": "python",
   "name": "python3"
  },
  "language_info": {
   "codemirror_mode": {
    "name": "ipython",
    "version": 3
   },
   "file_extension": ".py",
   "mimetype": "text/x-python",
   "name": "python",
   "nbconvert_exporter": "python",
   "pygments_lexer": "ipython3",
   "version": "3.7.3"
  }
 },
 "nbformat": 4,
 "nbformat_minor": 4
}
